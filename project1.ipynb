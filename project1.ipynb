{
 "cells": [
  {
   "cell_type": "code",
   "execution_count": 1,
   "metadata": {},
   "outputs": [],
   "source": [
    "import numpy as np\n",
    "from scipy.stats import norm\n",
    "import pandas as pd\n",
    "from sklearn.linear_model import Lasso\n",
    "from sklearn.linear_model import LassoCV\n",
    "from sklearn.impute import SimpleImputer"
   ]
  },
  {
   "cell_type": "code",
   "execution_count": 2,
   "metadata": {},
   "outputs": [],
   "source": [
    "df = pd.read_csv (r'/Users/sunshaoyang/Desktop/Copy of covid19.csv',index_col=0)"
   ]
  },
  {
   "cell_type": "code",
   "execution_count": 3,
   "metadata": {},
   "outputs": [
    {
     "data": {
      "text/plain": [
       "avgtemp         False\n",
       "avghumidity     False\n",
       "pop             False\n",
       "density         False\n",
       "medianage       False\n",
       "urbanpop        False\n",
       "hospibed        False\n",
       "smokers          True\n",
       "sexratio        False\n",
       "gdp2019         False\n",
       "healthperpop    False\n",
       "fertility       False\n",
       "totalcases       True\n",
       "dtype: bool"
      ]
     },
     "execution_count": 3,
     "metadata": {},
     "output_type": "execute_result"
    }
   ],
   "source": [
    "df.isnull().any()"
   ]
  },
  {
   "cell_type": "code",
   "execution_count": 4,
   "metadata": {},
   "outputs": [],
   "source": [
    "# Replace the NAs in \"Smokers\" with column mean\n",
    "nan_model=SimpleImputer(missing_values=np.nan,strategy='mean')\n",
    "df.smokers=nan_model.fit_transform(df[['smokers']])"
   ]
  },
  {
   "cell_type": "code",
   "execution_count": 5,
   "metadata": {},
   "outputs": [
    {
     "data": {
      "text/plain": [
       "avgtemp         False\n",
       "avghumidity     False\n",
       "pop             False\n",
       "density         False\n",
       "medianage       False\n",
       "urbanpop        False\n",
       "hospibed        False\n",
       "smokers         False\n",
       "sexratio        False\n",
       "gdp2019         False\n",
       "healthperpop    False\n",
       "fertility       False\n",
       "totalcases       True\n",
       "dtype: bool"
      ]
     },
     "execution_count": 5,
     "metadata": {},
     "output_type": "execute_result"
    }
   ],
   "source": [
    "df.isnull().any()"
   ]
  },
  {
   "cell_type": "code",
   "execution_count": 6,
   "metadata": {},
   "outputs": [],
   "source": [
    "# Delete the country whose totalcases is NA\n",
    "df.dropna(inplace=True) "
   ]
  },
  {
   "cell_type": "code",
   "execution_count": 7,
   "metadata": {},
   "outputs": [
    {
     "data": {
      "text/plain": [
       "avgtemp         False\n",
       "avghumidity     False\n",
       "pop             False\n",
       "density         False\n",
       "medianage       False\n",
       "urbanpop        False\n",
       "hospibed        False\n",
       "smokers         False\n",
       "sexratio        False\n",
       "gdp2019         False\n",
       "healthperpop    False\n",
       "fertility       False\n",
       "totalcases      False\n",
       "dtype: bool"
      ]
     },
     "execution_count": 7,
     "metadata": {},
     "output_type": "execute_result"
    }
   ],
   "source": [
    "df.isnull().any()"
   ]
  },
  {
   "cell_type": "code",
   "execution_count": 8,
   "metadata": {},
   "outputs": [
    {
     "data": {
      "text/html": [
       "<div>\n",
       "<style scoped>\n",
       "    .dataframe tbody tr th:only-of-type {\n",
       "        vertical-align: middle;\n",
       "    }\n",
       "\n",
       "    .dataframe tbody tr th {\n",
       "        vertical-align: top;\n",
       "    }\n",
       "\n",
       "    .dataframe thead th {\n",
       "        text-align: right;\n",
       "    }\n",
       "</style>\n",
       "<table border=\"1\" class=\"dataframe\">\n",
       "  <thead>\n",
       "    <tr style=\"text-align: right;\">\n",
       "      <th></th>\n",
       "      <th>avgtemp</th>\n",
       "      <th>avghumidity</th>\n",
       "      <th>pop</th>\n",
       "      <th>density</th>\n",
       "      <th>medianage</th>\n",
       "      <th>urbanpop</th>\n",
       "      <th>hospibed</th>\n",
       "      <th>smokers</th>\n",
       "      <th>sexratio</th>\n",
       "      <th>gdp2019</th>\n",
       "      <th>healthperpop</th>\n",
       "      <th>fertility</th>\n",
       "      <th>totalcases</th>\n",
       "    </tr>\n",
       "    <tr>\n",
       "      <th>country</th>\n",
       "      <th></th>\n",
       "      <th></th>\n",
       "      <th></th>\n",
       "      <th></th>\n",
       "      <th></th>\n",
       "      <th></th>\n",
       "      <th></th>\n",
       "      <th></th>\n",
       "      <th></th>\n",
       "      <th></th>\n",
       "      <th></th>\n",
       "      <th></th>\n",
       "      <th></th>\n",
       "    </tr>\n",
       "  </thead>\n",
       "  <tbody>\n",
       "    <tr>\n",
       "      <th>Afghanistan</th>\n",
       "      <td>6.22</td>\n",
       "      <td>56.93</td>\n",
       "      <td>38928346.0</td>\n",
       "      <td>60.0</td>\n",
       "      <td>18.0</td>\n",
       "      <td>25.0</td>\n",
       "      <td>0.5</td>\n",
       "      <td>22.997685</td>\n",
       "      <td>1.03</td>\n",
       "      <td>18734.0</td>\n",
       "      <td>4.73</td>\n",
       "      <td>5.12</td>\n",
       "      <td>273.0</td>\n",
       "    </tr>\n",
       "    <tr>\n",
       "      <th>Albania</th>\n",
       "      <td>13.95</td>\n",
       "      <td>69.90</td>\n",
       "      <td>2877797.0</td>\n",
       "      <td>105.0</td>\n",
       "      <td>36.0</td>\n",
       "      <td>63.0</td>\n",
       "      <td>2.9</td>\n",
       "      <td>29.400000</td>\n",
       "      <td>0.98</td>\n",
       "      <td>15418.0</td>\n",
       "      <td>268.96</td>\n",
       "      <td>1.51</td>\n",
       "      <td>304.0</td>\n",
       "    </tr>\n",
       "    <tr>\n",
       "      <th>Algeria</th>\n",
       "      <td>19.57</td>\n",
       "      <td>61.72</td>\n",
       "      <td>43851044.0</td>\n",
       "      <td>18.0</td>\n",
       "      <td>29.0</td>\n",
       "      <td>73.0</td>\n",
       "      <td>1.9</td>\n",
       "      <td>22.997685</td>\n",
       "      <td>1.03</td>\n",
       "      <td>172781.0</td>\n",
       "      <td>23.51</td>\n",
       "      <td>2.70</td>\n",
       "      <td>986.0</td>\n",
       "    </tr>\n",
       "    <tr>\n",
       "      <th>Andorra</th>\n",
       "      <td>7.38</td>\n",
       "      <td>75.23</td>\n",
       "      <td>77265.0</td>\n",
       "      <td>164.0</td>\n",
       "      <td>45.0</td>\n",
       "      <td>88.0</td>\n",
       "      <td>2.5</td>\n",
       "      <td>32.500000</td>\n",
       "      <td>1.06</td>\n",
       "      <td>91527.0</td>\n",
       "      <td>76994.76</td>\n",
       "      <td>1.40</td>\n",
       "      <td>439.0</td>\n",
       "    </tr>\n",
       "    <tr>\n",
       "      <th>Argentina</th>\n",
       "      <td>32.82</td>\n",
       "      <td>43.62</td>\n",
       "      <td>45195774.0</td>\n",
       "      <td>17.0</td>\n",
       "      <td>32.0</td>\n",
       "      <td>93.0</td>\n",
       "      <td>5.0</td>\n",
       "      <td>23.950000</td>\n",
       "      <td>0.98</td>\n",
       "      <td>445469.0</td>\n",
       "      <td>30.76</td>\n",
       "      <td>2.26</td>\n",
       "      <td>1265.0</td>\n",
       "    </tr>\n",
       "    <tr>\n",
       "      <th>...</th>\n",
       "      <td>...</td>\n",
       "      <td>...</td>\n",
       "      <td>...</td>\n",
       "      <td>...</td>\n",
       "      <td>...</td>\n",
       "      <td>...</td>\n",
       "      <td>...</td>\n",
       "      <td>...</td>\n",
       "      <td>...</td>\n",
       "      <td>...</td>\n",
       "      <td>...</td>\n",
       "      <td>...</td>\n",
       "      <td>...</td>\n",
       "    </tr>\n",
       "    <tr>\n",
       "      <th>Uruguay</th>\n",
       "      <td>28.70</td>\n",
       "      <td>55.98</td>\n",
       "      <td>3473730.0</td>\n",
       "      <td>20.0</td>\n",
       "      <td>36.0</td>\n",
       "      <td>96.0</td>\n",
       "      <td>2.8</td>\n",
       "      <td>23.050000</td>\n",
       "      <td>0.94</td>\n",
       "      <td>59918.0</td>\n",
       "      <td>503.21</td>\n",
       "      <td>1.80</td>\n",
       "      <td>369.0</td>\n",
       "    </tr>\n",
       "    <tr>\n",
       "      <th>Uzbekistan</th>\n",
       "      <td>13.57</td>\n",
       "      <td>52.05</td>\n",
       "      <td>33469203.0</td>\n",
       "      <td>79.0</td>\n",
       "      <td>28.0</td>\n",
       "      <td>50.0</td>\n",
       "      <td>4.0</td>\n",
       "      <td>13.100000</td>\n",
       "      <td>0.99</td>\n",
       "      <td>60490.0</td>\n",
       "      <td>11.44</td>\n",
       "      <td>1.76</td>\n",
       "      <td>221.0</td>\n",
       "    </tr>\n",
       "    <tr>\n",
       "      <th>Venezuela</th>\n",
       "      <td>24.78</td>\n",
       "      <td>79.52</td>\n",
       "      <td>28435940.0</td>\n",
       "      <td>32.0</td>\n",
       "      <td>30.0</td>\n",
       "      <td>80.0</td>\n",
       "      <td>0.8</td>\n",
       "      <td>22.997685</td>\n",
       "      <td>0.99</td>\n",
       "      <td>70140.0</td>\n",
       "      <td>20.36</td>\n",
       "      <td>2.32</td>\n",
       "      <td>146.0</td>\n",
       "    </tr>\n",
       "    <tr>\n",
       "      <th>Vietnam</th>\n",
       "      <td>24.17</td>\n",
       "      <td>73.75</td>\n",
       "      <td>97338579.0</td>\n",
       "      <td>314.0</td>\n",
       "      <td>32.0</td>\n",
       "      <td>38.0</td>\n",
       "      <td>2.6</td>\n",
       "      <td>24.200000</td>\n",
       "      <td>1.00</td>\n",
       "      <td>261637.0</td>\n",
       "      <td>3.43</td>\n",
       "      <td>1.81</td>\n",
       "      <td>237.0</td>\n",
       "    </tr>\n",
       "    <tr>\n",
       "      <th>Zambia</th>\n",
       "      <td>24.97</td>\n",
       "      <td>87.77</td>\n",
       "      <td>18383955.0</td>\n",
       "      <td>25.0</td>\n",
       "      <td>18.0</td>\n",
       "      <td>45.0</td>\n",
       "      <td>2.0</td>\n",
       "      <td>15.550000</td>\n",
       "      <td>1.00</td>\n",
       "      <td>23946.0</td>\n",
       "      <td>11.04</td>\n",
       "      <td>5.63</td>\n",
       "      <td>39.0</td>\n",
       "    </tr>\n",
       "  </tbody>\n",
       "</table>\n",
       "<p>143 rows × 13 columns</p>\n",
       "</div>"
      ],
      "text/plain": [
       "             avgtemp  avghumidity         pop  density  medianage  urbanpop  \\\n",
       "country                                                                       \n",
       "Afghanistan     6.22        56.93  38928346.0     60.0       18.0      25.0   \n",
       "Albania        13.95        69.90   2877797.0    105.0       36.0      63.0   \n",
       "Algeria        19.57        61.72  43851044.0     18.0       29.0      73.0   \n",
       "Andorra         7.38        75.23     77265.0    164.0       45.0      88.0   \n",
       "Argentina      32.82        43.62  45195774.0     17.0       32.0      93.0   \n",
       "...              ...          ...         ...      ...        ...       ...   \n",
       "Uruguay        28.70        55.98   3473730.0     20.0       36.0      96.0   \n",
       "Uzbekistan     13.57        52.05  33469203.0     79.0       28.0      50.0   \n",
       "Venezuela      24.78        79.52  28435940.0     32.0       30.0      80.0   \n",
       "Vietnam        24.17        73.75  97338579.0    314.0       32.0      38.0   \n",
       "Zambia         24.97        87.77  18383955.0     25.0       18.0      45.0   \n",
       "\n",
       "             hospibed    smokers  sexratio   gdp2019  healthperpop  fertility  \\\n",
       "country                                                                         \n",
       "Afghanistan       0.5  22.997685      1.03   18734.0          4.73       5.12   \n",
       "Albania           2.9  29.400000      0.98   15418.0        268.96       1.51   \n",
       "Algeria           1.9  22.997685      1.03  172781.0         23.51       2.70   \n",
       "Andorra           2.5  32.500000      1.06   91527.0      76994.76       1.40   \n",
       "Argentina         5.0  23.950000      0.98  445469.0         30.76       2.26   \n",
       "...               ...        ...       ...       ...           ...        ...   \n",
       "Uruguay           2.8  23.050000      0.94   59918.0        503.21       1.80   \n",
       "Uzbekistan        4.0  13.100000      0.99   60490.0         11.44       1.76   \n",
       "Venezuela         0.8  22.997685      0.99   70140.0         20.36       2.32   \n",
       "Vietnam           2.6  24.200000      1.00  261637.0          3.43       1.81   \n",
       "Zambia            2.0  15.550000      1.00   23946.0         11.04       5.63   \n",
       "\n",
       "             totalcases  \n",
       "country                  \n",
       "Afghanistan       273.0  \n",
       "Albania           304.0  \n",
       "Algeria           986.0  \n",
       "Andorra           439.0  \n",
       "Argentina        1265.0  \n",
       "...                 ...  \n",
       "Uruguay           369.0  \n",
       "Uzbekistan        221.0  \n",
       "Venezuela         146.0  \n",
       "Vietnam           237.0  \n",
       "Zambia             39.0  \n",
       "\n",
       "[143 rows x 13 columns]"
      ]
     },
     "execution_count": 8,
     "metadata": {},
     "output_type": "execute_result"
    }
   ],
   "source": [
    "df"
   ]
  },
  {
   "cell_type": "code",
   "execution_count": 47,
   "metadata": {},
   "outputs": [
    {
     "data": {
      "image/png": "[encoded data removed]",
      "text/plain": [
       "<Figure size 576x288 with 1 Axes>"
      ]
     },
     "metadata": {},
     "output_type": "display_data"
    }
   ],
   "source": [
    "sns.set_style(\"white\")\n",
    "sns.set_color_codes(palette='deep')\n",
    "f, ax = plt.subplots(figsize=(8, 4))\n",
    "sns.distplot(y,color=\"b\");\n",
    "ax.xaxis.grid(False)\n",
    "ax.set(ylabel=\"Frequency\")\n",
    "ax.set(xlabel=\"TotalCases\")\n",
    "sns.despine(trim=True, left=True)\n",
    "plt.show()"
   ]
  },
  {
   "cell_type": "code",
   "execution_count": 62,
   "metadata": {},
   "outputs": [
    {
     "data": {
      "image/png": "[encoded data removed]",
      "text/plain": [
       "<Figure size 432x288 with 1 Axes>"
      ]
     },
     "metadata": {},
     "output_type": "display_data"
    }
   ],
   "source": [
    "plt.scatter(D,y,color=\"dodgerblue\")\n",
    "plt.ylabel(\"Total Cases\")\n",
    "plt.xlabel(\"Temperature\")\n",
    "plt.show()"
   ]
  },
  {
   "cell_type": "code",
   "execution_count": 63,
   "metadata": {},
   "outputs": [
    {
     "data": {
      "text/html": [
       "<div>\n",
       "<style scoped>\n",
       "    .dataframe tbody tr th:only-of-type {\n",
       "        vertical-align: middle;\n",
       "    }\n",
       "\n",
       "    .dataframe tbody tr th {\n",
       "        vertical-align: top;\n",
       "    }\n",
       "\n",
       "    .dataframe thead th {\n",
       "        text-align: right;\n",
       "    }\n",
       "</style>\n",
       "<table border=\"1\" class=\"dataframe\">\n",
       "  <thead>\n",
       "    <tr style=\"text-align: right;\">\n",
       "      <th></th>\n",
       "      <th>avghumidity</th>\n",
       "      <th>pop</th>\n",
       "      <th>density</th>\n",
       "      <th>medianage</th>\n",
       "      <th>urbanpop</th>\n",
       "      <th>hospibed</th>\n",
       "      <th>smokers</th>\n",
       "      <th>sexratio</th>\n",
       "      <th>gdp2019</th>\n",
       "      <th>healthperpop</th>\n",
       "      <th>fertility</th>\n",
       "    </tr>\n",
       "    <tr>\n",
       "      <th>country</th>\n",
       "      <th></th>\n",
       "      <th></th>\n",
       "      <th></th>\n",
       "      <th></th>\n",
       "      <th></th>\n",
       "      <th></th>\n",
       "      <th></th>\n",
       "      <th></th>\n",
       "      <th></th>\n",
       "      <th></th>\n",
       "      <th></th>\n",
       "    </tr>\n",
       "  </thead>\n",
       "  <tbody>\n",
       "    <tr>\n",
       "      <th>Afghanistan</th>\n",
       "      <td>56.93</td>\n",
       "      <td>38928346.0</td>\n",
       "      <td>60.0</td>\n",
       "      <td>18.0</td>\n",
       "      <td>25.0</td>\n",
       "      <td>0.5</td>\n",
       "      <td>22.997685</td>\n",
       "      <td>1.03</td>\n",
       "      <td>18734.0</td>\n",
       "      <td>4.73</td>\n",
       "      <td>5.12</td>\n",
       "    </tr>\n",
       "    <tr>\n",
       "      <th>Albania</th>\n",
       "      <td>69.90</td>\n",
       "      <td>2877797.0</td>\n",
       "      <td>105.0</td>\n",
       "      <td>36.0</td>\n",
       "      <td>63.0</td>\n",
       "      <td>2.9</td>\n",
       "      <td>29.400000</td>\n",
       "      <td>0.98</td>\n",
       "      <td>15418.0</td>\n",
       "      <td>268.96</td>\n",
       "      <td>1.51</td>\n",
       "    </tr>\n",
       "    <tr>\n",
       "      <th>Algeria</th>\n",
       "      <td>61.72</td>\n",
       "      <td>43851044.0</td>\n",
       "      <td>18.0</td>\n",
       "      <td>29.0</td>\n",
       "      <td>73.0</td>\n",
       "      <td>1.9</td>\n",
       "      <td>22.997685</td>\n",
       "      <td>1.03</td>\n",
       "      <td>172781.0</td>\n",
       "      <td>23.51</td>\n",
       "      <td>2.70</td>\n",
       "    </tr>\n",
       "    <tr>\n",
       "      <th>Andorra</th>\n",
       "      <td>75.23</td>\n",
       "      <td>77265.0</td>\n",
       "      <td>164.0</td>\n",
       "      <td>45.0</td>\n",
       "      <td>88.0</td>\n",
       "      <td>2.5</td>\n",
       "      <td>32.500000</td>\n",
       "      <td>1.06</td>\n",
       "      <td>91527.0</td>\n",
       "      <td>76994.76</td>\n",
       "      <td>1.40</td>\n",
       "    </tr>\n",
       "    <tr>\n",
       "      <th>Argentina</th>\n",
       "      <td>43.62</td>\n",
       "      <td>45195774.0</td>\n",
       "      <td>17.0</td>\n",
       "      <td>32.0</td>\n",
       "      <td>93.0</td>\n",
       "      <td>5.0</td>\n",
       "      <td>23.950000</td>\n",
       "      <td>0.98</td>\n",
       "      <td>445469.0</td>\n",
       "      <td>30.76</td>\n",
       "      <td>2.26</td>\n",
       "    </tr>\n",
       "    <tr>\n",
       "      <th>...</th>\n",
       "      <td>...</td>\n",
       "      <td>...</td>\n",
       "      <td>...</td>\n",
       "      <td>...</td>\n",
       "      <td>...</td>\n",
       "      <td>...</td>\n",
       "      <td>...</td>\n",
       "      <td>...</td>\n",
       "      <td>...</td>\n",
       "      <td>...</td>\n",
       "      <td>...</td>\n",
       "    </tr>\n",
       "    <tr>\n",
       "      <th>Uruguay</th>\n",
       "      <td>55.98</td>\n",
       "      <td>3473730.0</td>\n",
       "      <td>20.0</td>\n",
       "      <td>36.0</td>\n",
       "      <td>96.0</td>\n",
       "      <td>2.8</td>\n",
       "      <td>23.050000</td>\n",
       "      <td>0.94</td>\n",
       "      <td>59918.0</td>\n",
       "      <td>503.21</td>\n",
       "      <td>1.80</td>\n",
       "    </tr>\n",
       "    <tr>\n",
       "      <th>Uzbekistan</th>\n",
       "      <td>52.05</td>\n",
       "      <td>33469203.0</td>\n",
       "      <td>79.0</td>\n",
       "      <td>28.0</td>\n",
       "      <td>50.0</td>\n",
       "      <td>4.0</td>\n",
       "      <td>13.100000</td>\n",
       "      <td>0.99</td>\n",
       "      <td>60490.0</td>\n",
       "      <td>11.44</td>\n",
       "      <td>1.76</td>\n",
       "    </tr>\n",
       "    <tr>\n",
       "      <th>Venezuela</th>\n",
       "      <td>79.52</td>\n",
       "      <td>28435940.0</td>\n",
       "      <td>32.0</td>\n",
       "      <td>30.0</td>\n",
       "      <td>80.0</td>\n",
       "      <td>0.8</td>\n",
       "      <td>22.997685</td>\n",
       "      <td>0.99</td>\n",
       "      <td>70140.0</td>\n",
       "      <td>20.36</td>\n",
       "      <td>2.32</td>\n",
       "    </tr>\n",
       "    <tr>\n",
       "      <th>Vietnam</th>\n",
       "      <td>73.75</td>\n",
       "      <td>97338579.0</td>\n",
       "      <td>314.0</td>\n",
       "      <td>32.0</td>\n",
       "      <td>38.0</td>\n",
       "      <td>2.6</td>\n",
       "      <td>24.200000</td>\n",
       "      <td>1.00</td>\n",
       "      <td>261637.0</td>\n",
       "      <td>3.43</td>\n",
       "      <td>1.81</td>\n",
       "    </tr>\n",
       "    <tr>\n",
       "      <th>Zambia</th>\n",
       "      <td>87.77</td>\n",
       "      <td>18383955.0</td>\n",
       "      <td>25.0</td>\n",
       "      <td>18.0</td>\n",
       "      <td>45.0</td>\n",
       "      <td>2.0</td>\n",
       "      <td>15.550000</td>\n",
       "      <td>1.00</td>\n",
       "      <td>23946.0</td>\n",
       "      <td>11.04</td>\n",
       "      <td>5.63</td>\n",
       "    </tr>\n",
       "  </tbody>\n",
       "</table>\n",
       "<p>143 rows × 11 columns</p>\n",
       "</div>"
      ],
      "text/plain": [
       "             avghumidity         pop  density  medianage  urbanpop  hospibed  \\\n",
       "country                                                                        \n",
       "Afghanistan        56.93  38928346.0     60.0       18.0      25.0       0.5   \n",
       "Albania            69.90   2877797.0    105.0       36.0      63.0       2.9   \n",
       "Algeria            61.72  43851044.0     18.0       29.0      73.0       1.9   \n",
       "Andorra            75.23     77265.0    164.0       45.0      88.0       2.5   \n",
       "Argentina          43.62  45195774.0     17.0       32.0      93.0       5.0   \n",
       "...                  ...         ...      ...        ...       ...       ...   \n",
       "Uruguay            55.98   3473730.0     20.0       36.0      96.0       2.8   \n",
       "Uzbekistan         52.05  33469203.0     79.0       28.0      50.0       4.0   \n",
       "Venezuela          79.52  28435940.0     32.0       30.0      80.0       0.8   \n",
       "Vietnam            73.75  97338579.0    314.0       32.0      38.0       2.6   \n",
       "Zambia             87.77  18383955.0     25.0       18.0      45.0       2.0   \n",
       "\n",
       "               smokers  sexratio   gdp2019  healthperpop  fertility  \n",
       "country                                                              \n",
       "Afghanistan  22.997685      1.03   18734.0          4.73       5.12  \n",
       "Albania      29.400000      0.98   15418.0        268.96       1.51  \n",
       "Algeria      22.997685      1.03  172781.0         23.51       2.70  \n",
       "Andorra      32.500000      1.06   91527.0      76994.76       1.40  \n",
       "Argentina    23.950000      0.98  445469.0         30.76       2.26  \n",
       "...                ...       ...       ...           ...        ...  \n",
       "Uruguay      23.050000      0.94   59918.0        503.21       1.80  \n",
       "Uzbekistan   13.100000      0.99   60490.0         11.44       1.76  \n",
       "Venezuela    22.997685      0.99   70140.0         20.36       2.32  \n",
       "Vietnam      24.200000      1.00  261637.0          3.43       1.81  \n",
       "Zambia       15.550000      1.00   23946.0         11.04       5.63  \n",
       "\n",
       "[143 rows x 11 columns]"
      ]
     },
     "execution_count": 63,
     "metadata": {},
     "output_type": "execute_result"
    }
   ],
   "source": [
    "(n,p)= df.shape\n",
    "\n",
    "y = df.totalcases\n",
    "D = df.iloc[:,0]\n",
    "Z = df.iloc[:,1:12]\n",
    "X = df.iloc[:,0:12]"
   ]
  },
  {
   "cell_type": "code",
   "execution_count": 10,
   "metadata": {},
   "outputs": [],
   "source": [
    "# normalization\n",
    "muhat1 = np.mean(X,axis = 0)\n",
    "stdhat1 = np.std(X,axis = 0)\n",
    "Xtilde = (X - muhat1)/stdhat1\n",
    "\n",
    "muhat2 = np.mean(Z,axis = 0)\n",
    "stdhat2 = np.std(Z,axis = 0)\n",
    "Ztilde = (Z - muhat2)/stdhat2\n",
    "\n",
    "muhat3 = np.mean(D,axis = 0)\n",
    "stdhat3 = np.std(D,axis = 0)\n",
    "Dtilde = (D - muhat3)/stdhat3"
   ]
  },
  {
   "cell_type": "code",
   "execution_count": 67,
   "metadata": {},
   "outputs": [
    {
     "data": {
      "text/plain": [
       "array([ -614.30057888, -7403.98342233,   862.17448434,  7655.16425717,\n",
       "        -555.76899919, -5531.07832856,     0.        ,  -599.48092159,\n",
       "       26480.03130353, -1198.50883468,  2866.73279392])"
      ]
     },
     "execution_count": 67,
     "metadata": {},
     "output_type": "execute_result"
    }
   ],
   "source": [
    "# First Lasso\n",
    "lasso1 = LassoCV(cv = 5,fit_intercept=True)\n",
    "lasso1.fit(Xtilde,y)\n",
    "coef1 = lasso1.coef_\n",
    "gamma_hat = coef1[1:12]\n",
    "gamma_hat"
   ]
  },
  {
   "cell_type": "code",
   "execution_count": 23,
   "metadata": {},
   "outputs": [
    {
     "data": {
      "text/plain": [
       "array([-1.9206395 , -0.04899025,  1.12606156, -3.53951066, -0.        ,\n",
       "       -2.71732008, -1.12509304,  0.        , -0.12798112, -0.        ,\n",
       "        0.        ])"
      ]
     },
     "execution_count": 23,
     "metadata": {},
     "output_type": "execute_result"
    }
   ],
   "source": [
    "# Second Lasso\n",
    "lasso2 = LassoCV(cv = 5)\n",
    "lasso2.fit(Ztilde,D)\n",
    "coef2 = lasso2.coef_\n",
    "phi_hat = coef2\n",
    "phi_hat"
   ]
  },
  {
   "cell_type": "code",
   "execution_count": 24,
   "metadata": {},
   "outputs": [],
   "source": [
    "# Use analogy principle to estimate alpha\n",
    "\n",
    "# Calculate numerator of alpha_tilde\n",
    "a = y - np.dot(Ztilde,gamma_hat)\n",
    "b = Dtilde - np.dot(Ztilde,phi_hat)\n",
    "c = np.dot(a,b)\n",
    "\n",
    "# Calculate dominator of alpha_tilde\n",
    "d = np.dot(Dtilde,b)"
   ]
  },
  {
   "cell_type": "code",
   "execution_count": 25,
   "metadata": {},
   "outputs": [
    {
     "data": {
      "text/plain": [
       "-959.3110754734498"
      ]
     },
     "execution_count": 25,
     "metadata": {},
     "output_type": "execute_result"
    }
   ],
   "source": [
    "# Calculate alpha_tilde\n",
    "alpha_tilde = c/d\n",
    "alpha_tilde"
   ]
  },
  {
   "cell_type": "code",
   "execution_count": 26,
   "metadata": {},
   "outputs": [],
   "source": [
    "y_predict = lasso1.predict(Xtilde)\n",
    "epsilon = y - y_predict\n",
    "\n",
    "y_predict = lasso2.predict(Ztilde)\n",
    "mu = y - y_predict"
   ]
  },
  {
   "cell_type": "code",
   "execution_count": 27,
   "metadata": {},
   "outputs": [
    {
     "data": {
      "text/plain": [
       "2.469228503185719"
      ]
     },
     "execution_count": 27,
     "metadata": {},
     "output_type": "execute_result"
    }
   ],
   "source": [
    "Sigma = (np.dot(epsilon**2,mu**2)/n)/((np.dot(mu,mu)/n)**2)\n",
    "Sigma  # So the distributio of alpha is N(0,2.4692)"
   ]
  },
  {
   "cell_type": "code",
   "execution_count": 28,
   "metadata": {},
   "outputs": [
    {
     "name": "stdout",
     "output_type": "stream",
     "text": [
      "-959.5686297072367 -959.0535212396629\n"
     ]
    }
   ],
   "source": [
    "#Confidence Interval\n",
    "1.96*np.sqrt(Sigma/n)\n",
    "d = alpha_tilde - 1.96*np.sqrt(Sigma/n)\n",
    "u = alpha_tilde + 1.96*np.sqrt(Sigma/n)\n",
    "print(d,u)"
   ]
  },
  {
   "cell_type": "code",
   "execution_count": 65,
   "metadata": {},
   "outputs": [
    {
     "data": {
      "image/png": "[encoded data removed]",
      "text/plain": [
       "<Figure size 576x504 with 1 Axes>"
      ]
     },
     "metadata": {},
     "output_type": "display_data"
    }
   ],
   "source": [
    "import seaborn as sns\n",
    "import matplotlib.pyplot as plt\n",
    "sns.set_style(\"white\")\n",
    "sns.set_color_codes(palette='deep')\n",
    "f, ax = plt.subplots(figsize=(8, 7))\n",
    "sns.distplot(y_predict,color=\"b\");\n",
    "ax.xaxis.grid(False)\n",
    "ax.set(ylabel=\"TotalCases\")\n",
    "ax.set(xlabel=\"Temperature\")\n",
    "sns.despine(trim=True, left=True)\n",
    "plt.show()"
   ]
  },
  {
   "cell_type": "code",
   "execution_count": null,
   "metadata": {},
   "outputs": [],
   "source": []
  }
 ],
 "metadata": {
  "kernelspec": {
   "display_name": "Python 3",
   "language": "python",
   "name": "python3"
  },
  "language_info": {
   "codemirror_mode": {
    "name": "ipython",
    "version": 3
   },
   "file_extension": ".py",
   "mimetype": "text/x-python",
   "name": "python",
   "nbconvert_exporter": "python",
   "pygments_lexer": "ipython3",
   "version": "3.7.3"
  }
 },
 "nbformat": 4,
 "nbformat_minor": 4
}
